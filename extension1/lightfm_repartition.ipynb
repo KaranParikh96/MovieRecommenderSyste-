{
 "cells": [
  {
   "cell_type": "code",
   "execution_count": 7,
   "id": "c9229a4d",
   "metadata": {
    "scrolled": true
   },
   "outputs": [
    {
     "name": "stderr",
     "output_type": "stream",
     "text": [
      "                                                                                \r"
     ]
    }
   ],
   "source": [
    "from pyspark.ml.feature import StringIndexer\n",
    "from pyspark import SparkContext\n",
    "from pyspark.sql import SparkSession\n",
    "import sys\n",
    "import getpass\n",
    "\n",
    "\n",
    "def main(spark):\n",
    "           \n",
    "    # read in data\n",
    "    trainSample = spark.read.parquet('../data/test_sampled.parquet')\n",
    "    \n",
    "    trainSample.createOrReplaceTempView('testSample')\n",
    "\n",
    "    train_df = trainSample.repartition(2000)\n",
    "    \n",
    "    \n",
    "\n",
    "    train_df.write.mode('overwrite').parquet('../data/test_df_repart.parquet')\n",
    "\n",
    "\n",
    "    # Create the spark session object\n",
    "spark = SparkSession.builder.config('spark.driver.memory', '128g').appName('sampler').getOrCreate()\n",
    "\n",
    "main(spark)"
   ]
  },
  {
   "cell_type": "code",
   "execution_count": null,
   "id": "5568e641",
   "metadata": {},
   "outputs": [],
   "source": []
  }
 ],
 "metadata": {
  "kernelspec": {
   "display_name": "Python 3 (ipykernel)",
   "language": "python",
   "name": "python3"
  },
  "language_info": {
   "codemirror_mode": {
    "name": "ipython",
    "version": 3
   },
   "file_extension": ".py",
   "mimetype": "text/x-python",
   "name": "python",
   "nbconvert_exporter": "python",
   "pygments_lexer": "ipython3",
   "version": "3.8.12"
  }
 },
 "nbformat": 4,
 "nbformat_minor": 5
}
