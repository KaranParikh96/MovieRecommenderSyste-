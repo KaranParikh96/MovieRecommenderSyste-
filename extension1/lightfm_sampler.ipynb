{
 "cells": [
  {
   "cell_type": "code",
   "execution_count": 1,
   "id": "d35dc6e0",
   "metadata": {},
   "outputs": [
    {
     "name": "stderr",
     "output_type": "stream",
     "text": [
      "WARNING: An illegal reflective access operation has occurred\n",
      "WARNING: Illegal reflective access by org.apache.spark.unsafe.Platform (file:/ext3/spark-3.1.2-bin-hadoop3.2/jars/spark-unsafe_2.12-3.1.2.jar) to constructor java.nio.DirectByteBuffer(long,int)\n",
      "WARNING: Please consider reporting this to the maintainers of org.apache.spark.unsafe.Platform\n",
      "WARNING: Use --illegal-access=warn to enable warnings of further illegal reflective access operations\n",
      "WARNING: All illegal access operations will be denied in a future release\n",
      "22/05/16 22:19:05 WARN NativeCodeLoader: Unable to load native-hadoop library for your platform... using builtin-java classes where applicable\n",
      "Using Spark's default log4j profile: org/apache/spark/log4j-defaults.properties\n",
      "Setting default log level to \"WARN\".\n",
      "To adjust logging level use sc.setLogLevel(newLevel). For SparkR, use setLogLevel(newLevel).\n",
      "22/05/16 22:19:06 WARN Utils: Service 'SparkUI' could not bind on port 4040. Attempting port 4041.\n"
     ]
    }
   ],
   "source": [
    "from pyspark.ml.evaluation import RegressionEvaluator\n",
    "from pyspark.ml.recommendation import ALS\n",
    "from pyspark.sql import Row\n",
    "import getpass\n",
    "import sys\n",
    "\n",
    "from pyspark.sql import SparkSession\n",
    "import numpy as np\n",
    "import pandas as pd\n",
    "\n",
    "\n",
    "def main(spark, file_path):\n",
    "\n",
    "    flt_pct_samp = 1/8\n",
    "    lines = spark.read.parquet(file_path)\n",
    "    lines.createOrReplaceTempView('lines')\n",
    "    \n",
    "    print(lines.count())\n",
    "    df = lines.sample(fraction=flt_pct_samp)\n",
    "    print(df.count())\n",
    "#     df.coalesce(1).write.mode('overwrite').parquet('../data/test_sampled.parquet')\n",
    "    \n",
    "\n",
    "\n",
    "# Create the spark session object\n",
    "spark = SparkSession.builder.appName('lightfm sampler').getOrCreate()"
   ]
  },
  {
   "cell_type": "code",
   "execution_count": 2,
   "id": "c3f42c48",
   "metadata": {},
   "outputs": [
    {
     "name": "stdout",
     "output_type": "stream",
     "text": [
      "16648168\n",
      "27656\n"
     ]
    }
   ],
   "source": [
    "main(spark, '/scratch/mnk2978/bigdata/training_df_parquet_ratings_large_random.parquet')"
   ]
  },
  {
   "cell_type": "code",
   "execution_count": 4,
   "id": "372ac648",
   "metadata": {},
   "outputs": [
    {
     "data": {
      "text/plain": [
       "2081021.0"
      ]
     },
     "execution_count": 4,
     "metadata": {},
     "output_type": "execute_result"
    }
   ],
   "source": [
    "16648168/8"
   ]
  },
  {
   "cell_type": "code",
   "execution_count": null,
   "id": "1026a651",
   "metadata": {},
   "outputs": [],
   "source": [
    "1664816.8"
   ]
  },
  {
   "cell_type": "code",
   "execution_count": 1,
   "id": "77acb23a",
   "metadata": {},
   "outputs": [
    {
     "name": "stderr",
     "output_type": "stream",
     "text": [
      "WARNING: An illegal reflective access operation has occurred\n",
      "WARNING: Illegal reflective access by org.apache.spark.unsafe.Platform (file:/ext3/spark-3.1.2-bin-hadoop3.2/jars/spark-unsafe_2.12-3.1.2.jar) to constructor java.nio.DirectByteBuffer(long,int)\n",
      "WARNING: Please consider reporting this to the maintainers of org.apache.spark.unsafe.Platform\n",
      "WARNING: Use --illegal-access=warn to enable warnings of further illegal reflective access operations\n",
      "WARNING: All illegal access operations will be denied in a future release\n",
      "22/05/17 07:11:24 WARN NativeCodeLoader: Unable to load native-hadoop library for your platform... using builtin-java classes where applicable\n",
      "Using Spark's default log4j profile: org/apache/spark/log4j-defaults.properties\n",
      "Setting default log level to \"WARN\".\n",
      "To adjust logging level use sc.setLogLevel(newLevel). For SparkR, use setLogLevel(newLevel).\n"
     ]
    },
    {
     "name": "stdout",
     "output_type": "stream",
     "text": [
      "80170\n",
      "10056\n"
     ]
    }
   ],
   "source": [
    "from pyspark.ml.evaluation import RegressionEvaluator\n",
    "from pyspark.ml.recommendation import ALS\n",
    "from pyspark.sql import Row\n",
    "import getpass\n",
    "import sys\n",
    "\n",
    "from pyspark.sql import SparkSession\n",
    "import numpy as np\n",
    "import pandas as pd\n",
    "\n",
    "\n",
    "def main(spark, file_path):\n",
    "\n",
    "    flt_pct_samp = 1/8\n",
    "    lines = spark.read.parquet(file_path)\n",
    "    lines.createOrReplaceTempView('lines')\n",
    "    \n",
    "    print(lines.count())\n",
    "    df = lines.sample(fraction=flt_pct_samp)\n",
    "    print(df.count())\n",
    "    df.coalesce(1).write.mode('overwrite').parquet('train_sampled.parquet')\n",
    "    \n",
    "# # Only enter this block if we're in main\n",
    "# if __name__ == \"__main__\":\n",
    "\n",
    "# Create the spark session object\n",
    "spark = SparkSession.builder.appName('lightfm sampler').getOrCreate()\n",
    "\n",
    "# Get user netID from the command line\n",
    "file_path = f\"hdfs:/user/{mnk2978}/sm-train/sm-train/\"\n",
    "\n",
    "\n",
    "# Call our main routine\n",
    "main(spark, file_path)\n"
   ]
  },
  {
   "cell_type": "code",
   "execution_count": null,
   "id": "64ead351",
   "metadata": {},
   "outputs": [],
   "source": []
  }
 ],
 "metadata": {
  "kernelspec": {
   "display_name": "Python 3 (ipykernel)",
   "language": "python",
   "name": "python3"
  },
  "language_info": {
   "codemirror_mode": {
    "name": "ipython",
    "version": 3
   },
   "file_extension": ".py",
   "mimetype": "text/x-python",
   "name": "python",
   "nbconvert_exporter": "python",
   "pygments_lexer": "ipython3",
   "version": "3.8.12"
  }
 },
 "nbformat": 4,
 "nbformat_minor": 5
}
