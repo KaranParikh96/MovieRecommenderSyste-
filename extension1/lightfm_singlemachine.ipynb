{
 "cells": [
  {
   "cell_type": "code",
   "execution_count": 1,
   "id": "c3650ead",
   "metadata": {},
   "outputs": [
    {
     "name": "stdout",
     "output_type": "stream",
     "text": [
      "Defaulting to user installation because normal site-packages is not writeable\n",
      "Requirement already satisfied: lightfm in /home/mnk2978/.local/lib/python3.8/site-packages (1.16)\n",
      "Requirement already satisfied: scipy>=0.17.0 in /ext3/pyspark/lib/python3.8/site-packages (from lightfm) (1.7.1)\n",
      "Requirement already satisfied: numpy in /ext3/pyspark/lib/python3.8/site-packages (from lightfm) (1.21.2)\n",
      "Requirement already satisfied: scikit-learn in /home/mnk2978/.local/lib/python3.8/site-packages (from lightfm) (1.1.0)\n",
      "Requirement already satisfied: requests in /ext3/pyspark/lib/python3.8/site-packages (from lightfm) (2.26.0)\n",
      "Requirement already satisfied: urllib3<1.27,>=1.21.1 in /ext3/pyspark/lib/python3.8/site-packages (from requests->lightfm) (1.26.7)\n",
      "Requirement already satisfied: certifi>=2017.4.17 in /ext3/pyspark/lib/python3.8/site-packages (from requests->lightfm) (2021.5.30)\n",
      "Requirement already satisfied: idna<4,>=2.5 in /ext3/pyspark/lib/python3.8/site-packages (from requests->lightfm) (3.2)\n",
      "Requirement already satisfied: charset-normalizer~=2.0.0 in /ext3/pyspark/lib/python3.8/site-packages (from requests->lightfm) (2.0.6)\n",
      "Requirement already satisfied: threadpoolctl>=2.0.0 in /home/mnk2978/.local/lib/python3.8/site-packages (from scikit-learn->lightfm) (3.1.0)\n",
      "Requirement already satisfied: joblib>=1.0.0 in /home/mnk2978/.local/lib/python3.8/site-packages (from scikit-learn->lightfm) (1.1.0)\n"
     ]
    }
   ],
   "source": [
    "!pip install lightfm\n",
    "import numpy as np\n",
    "import pandas as pd\n",
    "from lightfm import LightFM\n",
    "import itertools\n",
    "from lightfm.evaluation import precision_at_k\n",
    "from scipy.sparse import csr_matrix, lil_matrix, coo_matrix\n",
    "from time import time\n",
    "from lightfm.cross_validation import random_train_test_split\n"
   ]
  },
  {
   "cell_type": "code",
   "execution_count": 2,
   "id": "b738f9a3",
   "metadata": {},
   "outputs": [],
   "source": [
    "def create_interactions(df):\n",
    "    chunk_size = 5000\n",
    "    chunks = [x for x in range(0, df.shape[0], chunk_size)]\n",
    "    return pd.concat([df.iloc[ chunks[i]:chunks[i + 1] - 1 ].pivot_table(index='userId', columns='movieId', values='rating',fill_value = 0) for i in range(0, len(chunks) - 1)])\n",
    "\n",
    "#     return pd.pivot_table(df, index='userId', columns='movieId', values='rating', fill_value = 0)"
   ]
  },
  {
   "cell_type": "code",
   "execution_count": 3,
   "id": "3f07208a",
   "metadata": {},
   "outputs": [],
   "source": [
    "def create_matrix(interaction):\n",
    "    \n",
    "    total_matrix = csr_matrix(interaction.values)\n",
    "    \n",
    "    (train_matrix, val_and_test_matrix) = random_train_test_split(total_matrix, test_percentage=0.8)\n",
    "    \n",
    "    (val_matrix, test_matrix) = random_train_test_split(val_and_test_matrix, test_percentage=0.5)\n",
    "    \n",
    "    return train_matrix, val_matrix, test_matrix"
   ]
  },
  {
   "cell_type": "code",
   "execution_count": 4,
   "id": "46ee2666",
   "metadata": {},
   "outputs": [],
   "source": [
    "\n",
    "def sample_hyperparameters():\n",
    "    \"\"\"\n",
    "    Yield possible hyperparameter choices.\n",
    "    \"\"\"\n",
    "    \n",
    "    return {\"no_components\": [5,10,20,40,80,160], \"learning_rate\": [.01,.1,1,2]}"
   ]
  },
  {
   "cell_type": "code",
   "execution_count": 5,
   "id": "2b1fe888",
   "metadata": {},
   "outputs": [],
   "source": [
    "def random_search(train, val, m_iter):\n",
    "    \n",
    "    MAP_dict = {}\n",
    "\n",
    "    hyperparams = sample_hyperparameters()\n",
    "    \n",
    "    for rank in hyperparams['no_components']:\n",
    "            \n",
    "        key = '{} Rank'.format(rank)\n",
    "        nested_dict = {}\n",
    "            \n",
    "        for reg in hyperparams['learning_rate']:\n",
    "\n",
    "            model = LightFM(random_state = 123, learning_rate = reg, no_components = rank)\n",
    "            model.fit(train, epochs=m_iter)\n",
    "\n",
    "            MAP = precision_at_k(model, val, k = 500).mean()\n",
    "                \n",
    "            nested_key = '{} Reg Param'.format(reg)\n",
    "                \n",
    "            nested_dict[nested_key] = MAP\n",
    "        \n",
    "        MAP_dict[key] = nested_dict\n",
    "                \n",
    "    return MAP_dict\n"
   ]
  },
  {
   "cell_type": "code",
   "execution_count": 6,
   "id": "7756912d",
   "metadata": {},
   "outputs": [],
   "source": [
    "def get_best_params(MAP_dict):\n",
    "    \n",
    "    max_MAP = 0\n",
    "    dic = MAP_dict\n",
    "    for rank in dic.keys():\n",
    "        for reg in dic[rank]:\n",
    "            if dic[rank][reg] > max_MAP:\n",
    "                max_rank = rank\n",
    "                max_reg = reg\n",
    "                \n",
    "    return float(str.split(max_reg, ' ')[0]), int(str.split(max_rank, ' ')[0])\n",
    "    "
   ]
  },
  {
   "cell_type": "code",
   "execution_count": 7,
   "id": "28216ec0",
   "metadata": {},
   "outputs": [],
   "source": [
    "def train_model(train_matrix, rank, reg, m_iter):\n",
    "    \n",
    "    model = LightFM(random_state = 123, learning_rate = reg, no_components = rank)\n",
    "    model = model.fit(train_matrix, epochs = m_iter, num_threads=48)\n",
    "    \n",
    "    return model"
   ]
  },
  {
   "cell_type": "code",
   "execution_count": 8,
   "id": "ae94770f",
   "metadata": {},
   "outputs": [],
   "source": [
    "def test_model(model, test_matrix):\n",
    "    \n",
    "    return precision_at_k(model, test_matrix).mean()"
   ]
  },
  {
   "cell_type": "code",
   "execution_count": 9,
   "id": "4ad8291c",
   "metadata": {},
   "outputs": [],
   "source": [
    "def main():\n",
    "    train_csv = \"part-00000-91f527f7-fd90-45c5-914f-b322fb19f068-c000.csv\"\n",
    "    valid_csv = \"part-00000-b5285b31-2087-4107-a403-ec29338caec5-c000.csv\"\n",
    "    test_csv = \"part-00000-c9a2728c-5747-41b5-bd7f-398e06a5b3ec-c000.csv\"\n",
    "    train_df = pd.read_csv('../data/train_df_repartcsv/{}'.format(train_csv))\n",
    "    test_df = pd.read_csv('../data/test_df_repartcsv/{}'.format(test_csv))\n",
    "    val_df = pd.read_csv('../data/valid_df_repartcsv/{}'.format(valid_csv))\n",
    "        \n",
    "    df_total = pd.concat([train_df, val_df, test_df])\n",
    "    print(len(df_total.index))\n",
    "\n",
    "    df_interaction = create_interactions(df_total)\n",
    "    print('pivot table created')\n",
    "    \n",
    "    train_matrix, val_matrix, test_matrix = create_matrix(df_interaction)\n",
    "    \n",
    "    print('matrices created')\n",
    "    \n",
    "    st = time()\n",
    "    MAP_dict = random_search(train_matrix, val_matrix, m_iter = 4)\n",
    "    end = round(time()-st, 3)\n",
    "    \n",
    "    print(\"Hyperparameter tuning took {} seconds\".format(end))\n",
    "    \n",
    "    best_reg, best_rank = get_best_params(MAP_dict)\n",
    "    \n",
    "    print(\"Best rank: {}, best reg: {}\".format(best_rank, best_reg))\n",
    "\n",
    "    st = time()\n",
    "    model = train_model(train_matrix, best_rank, best_reg, m_iter = 4)\n",
    "    MAP = test_model(model, test_matrix)  \n",
    "    end = round(time()-st, 3)\n",
    "    \n",
    "    print(\"MAP on test data: {}\".format(MAP))\n",
    "    print(\"Final model training and fitting took {}\".format(end))\n",
    "    \n",
    "    return pd.DataFrame(MAP_dict)\n",
    "    \n"
   ]
  },
  {
   "cell_type": "code",
   "execution_count": null,
   "id": "29956432",
   "metadata": {},
   "outputs": [
    {
     "name": "stdout",
     "output_type": "stream",
     "text": [
      "3471442\n"
     ]
    }
   ],
   "source": [
    "main()"
   ]
  },
  {
   "cell_type": "code",
   "execution_count": null,
   "id": "09040026",
   "metadata": {},
   "outputs": [],
   "source": []
  }
 ],
 "metadata": {
  "kernelspec": {
   "display_name": "Python 3 (ipykernel)",
   "language": "python",
   "name": "python3"
  },
  "language_info": {
   "codemirror_mode": {
    "name": "ipython",
    "version": 3
   },
   "file_extension": ".py",
   "mimetype": "text/x-python",
   "name": "python",
   "nbconvert_exporter": "python",
   "pygments_lexer": "ipython3",
   "version": "3.8.12"
  }
 },
 "nbformat": 4,
 "nbformat_minor": 5
}
